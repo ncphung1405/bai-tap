{
  "nbformat": 4,
  "nbformat_minor": 0,
  "metadata": {
    "colab": {
      "provenance": [],
      "include_colab_link": true
    },
    "kernelspec": {
      "name": "python3",
      "display_name": "Python 3"
    },
    "language_info": {
      "name": "python"
    }
  },
  "cells": [
    {
      "cell_type": "markdown",
      "metadata": {
        "id": "view-in-github",
        "colab_type": "text"
      },
      "source": [
        "<a href=\"https://colab.research.google.com/github/ncphung1405/bai-tap/blob/main/B%C3%A0i_t%E1%BA%ADp_t%C3%ACm_hi%E1%BB%83u_Pytorch_PHIHUNG.ipynb\" target=\"_parent\"><img src=\"https://colab.research.google.com/assets/colab-badge.svg\" alt=\"Open In Colab\"/></a>"
      ]
    },
    {
      "cell_type": "markdown",
      "source": [
        "1. Viết mô hình Linear Regession bằng Pytorch"
      ],
      "metadata": {
        "id": "YhY1KTvvF_JS"
      }
    },
    {
      "cell_type": "code",
      "execution_count": 19,
      "metadata": {
        "id": "X0iEKAe6Fp4n"
      },
      "outputs": [],
      "source": [
        "import torch\n",
        "import torch.nn as nn\n",
        "import numpy as np\n",
        "import matplotlib.pyplot as plt\n",
        "from torch.utils.data import DataLoader, TensorDataset\n",
        "import torch.optim as optim"
      ]
    },
    {
      "cell_type": "code",
      "source": [
        "# Tạo dữ liệu mẫu\n",
        "np.random.seed(42)\n",
        "X = np.random.rand(100, 1) * 10\n",
        "y = 5 * X.squeeze() + 10 + np.random.randn(100)\n",
        "\n"
      ],
      "metadata": {
        "id": "Qy22ch7ZFs9B"
      },
      "execution_count": 20,
      "outputs": []
    },
    {
      "cell_type": "code",
      "source": [
        "# Chuyển đổi dữ liệu thành Tensor\n",
        "X_tensor = torch.tensor(X, dtype=torch.float32)\n",
        "y_tensor = torch.tensor(y, dtype=torch.float32).view(-1, 1)\n",
        "\n",
        "# Định nghĩa mô hình Linear Regression\n",
        "class LinearRegression(nn.Module):\n",
        "    def __init__(self, input_dim, output_dim):\n",
        "        super(LinearRegression, self).__init__()\n",
        "        self.linear = nn.Linear(input_dim, output_dim)\n",
        "\n",
        "    def forward(self, x):\n",
        "        return self.linear(x)\n",
        "\n",
        "\n"
      ],
      "metadata": {
        "id": "91CFWUg-FwwJ"
      },
      "execution_count": 21,
      "outputs": []
    },
    {
      "cell_type": "code",
      "source": [
        "# Khởi tạo mô hình và thiết lập các tham số\n",
        "input_dim = X.shape[1]\n",
        "output_dim = 1\n",
        "model = LinearRegression(input_dim, output_dim)\n",
        "\n"
      ],
      "metadata": {
        "id": "fUvN2qHUF17o"
      },
      "execution_count": 22,
      "outputs": []
    },
    {
      "cell_type": "code",
      "source": [
        "# Định nghĩa hàm loss và bộ tối ưu\n",
        "criterion = nn.MSELoss()\n",
        "optimizer = torch.optim.SGD(model.parameters(), lr=0.01)\n",
        "\n"
      ],
      "metadata": {
        "id": "ZyFuhyiBF4cI"
      },
      "execution_count": 23,
      "outputs": []
    },
    {
      "cell_type": "code",
      "source": [
        "# Huấn luyện mô hình\n",
        "num_epochs = 2000\n",
        "for epoch in range(num_epochs):\n",
        "    # Forward pass\n",
        "    outputs = model(X_tensor)\n",
        "    loss = criterion(outputs, y_tensor)\n",
        "\n",
        "    # Backward pass và cập nhật tham số\n",
        "    optimizer.zero_grad()\n",
        "    loss.backward()\n",
        "    optimizer.step()\n",
        "\n",
        "    if (epoch+1) % 100 == 0:\n",
        "        print(f'Epoch [{epoch+1}/{num_epochs}], Loss: {loss.item():.4f}')\n",
        "\n"
      ],
      "metadata": {
        "colab": {
          "base_uri": "https://localhost:8080/"
        },
        "id": "Uqsr5SnIF57g",
        "outputId": "77fd44d4-3be0-40b7-f1f1-f2ccb071ee94"
      },
      "execution_count": 24,
      "outputs": [
        {
          "output_type": "stream",
          "name": "stdout",
          "text": [
            "Epoch [100/2000], Loss: 10.4275\n",
            "Epoch [200/2000], Loss: 3.9695\n",
            "Epoch [300/2000], Loss: 1.8464\n",
            "Epoch [400/2000], Loss: 1.1484\n",
            "Epoch [500/2000], Loss: 0.9190\n",
            "Epoch [600/2000], Loss: 0.8435\n",
            "Epoch [700/2000], Loss: 0.8187\n",
            "Epoch [800/2000], Loss: 0.8106\n",
            "Epoch [900/2000], Loss: 0.8079\n",
            "Epoch [1000/2000], Loss: 0.8070\n",
            "Epoch [1100/2000], Loss: 0.8067\n",
            "Epoch [1200/2000], Loss: 0.8066\n",
            "Epoch [1300/2000], Loss: 0.8066\n",
            "Epoch [1400/2000], Loss: 0.8066\n",
            "Epoch [1500/2000], Loss: 0.8066\n",
            "Epoch [1600/2000], Loss: 0.8066\n",
            "Epoch [1700/2000], Loss: 0.8066\n",
            "Epoch [1800/2000], Loss: 0.8066\n",
            "Epoch [1900/2000], Loss: 0.8066\n",
            "Epoch [2000/2000], Loss: 0.8066\n"
          ]
        }
      ]
    },
    {
      "cell_type": "code",
      "source": [
        "# Trực quan hóa kết quả\n",
        "predicted = model(X_tensor).detach().numpy()\n",
        "plt.scatter(X, y, label='Original data')\n",
        "plt.plot(X, predicted, 'r-', label='Fitted line')\n",
        "plt.legend()\n",
        "plt.show()"
      ],
      "metadata": {
        "colab": {
          "base_uri": "https://localhost:8080/",
          "height": 430
        },
        "id": "euW3Eo7KF9Eg",
        "outputId": "89c862a2-91f1-4694-bd58-f25a0b306733"
      },
      "execution_count": 25,
      "outputs": [
        {
          "output_type": "display_data",
          "data": {
            "text/plain": [
              "<Figure size 640x480 with 1 Axes>"
            ],
            "image/png": "[encoded data removed]"
          },
          "metadata": {}
        }
      ]
    },
    {
      "cell_type": "markdown",
      "source": [
        "3. Viết chương trình xử lý dữ liệu sau với Pytorch"
      ],
      "metadata": {
        "id": "RdOeqxFuPdzv"
      }
    },
    {
      "cell_type": "code",
      "source": [
        "# Dữ liệu đầu vào\n",
        "X1 = torch.tensor([0, 0, 1, 1], dtype=torch.float32)\n",
        "X2 = torch.tensor([0, 1, 0, 1], dtype=torch.float32)\n",
        "y = torch.tensor([0, 1, 1, 0], dtype=torch.float32)"
      ],
      "metadata": {
        "id": "dlk8XgpXPiNY"
      },
      "execution_count": 26,
      "outputs": []
    },
    {
      "cell_type": "code",
      "source": [
        "# Tạo DataLoader cho dữ liệu\n",
        "dataset = TensorDataset(X1.view(-1, 1), X2.view(-1, 1), y.view(-1, 1))\n",
        "dataloader = DataLoader(dataset, batch_size=2, shuffle=True)"
      ],
      "metadata": {
        "id": "stM5NfoXPlCQ"
      },
      "execution_count": 27,
      "outputs": []
    },
    {
      "cell_type": "code",
      "source": [
        "# Định nghĩa mô hình Logistic Regression\n",
        "class LogisticRegression(nn.Module):\n",
        "    def __init__(self):\n",
        "        super(LogisticRegression, self).__init__()\n",
        "        self.linear = nn.Linear(2, 1)  # Một lớp tuyến tính với 2 đầu vào và 1 đầu ra\n",
        "\n",
        "    def forward(self, x):\n",
        "        out = torch.sigmoid(self.linear(x))  # Sigmoid activation function\n",
        "        return out"
      ],
      "metadata": {
        "id": "WCzJSJViPnx4"
      },
      "execution_count": 28,
      "outputs": []
    },
    {
      "cell_type": "code",
      "source": [
        "# Khởi tạo mô hình\n",
        "model = LogisticRegression()\n",
        "\n",
        "# Định nghĩa hàm loss và optimizer\n",
        "criterion = nn.BCELoss()  # Binary Cross Entropy Loss\n",
        "optimizer = optim.SGD(model.parameters(), lr=0.01)  # Stochastic Gradient Descent"
      ],
      "metadata": {
        "id": "TwSH8kzdPp5n"
      },
      "execution_count": 29,
      "outputs": []
    },
    {
      "cell_type": "code",
      "source": [
        "# Huấn luyện mô hình\n",
        "num_epochs = 1000\n",
        "for epoch in range(num_epochs):\n",
        "    for batch_X1, batch_X2, batch_y in dataloader:\n",
        "        # Forward pass\n",
        "        outputs = model(torch.cat([batch_X1, batch_X2], dim=1))\n",
        "        loss = criterion(outputs, batch_y)\n",
        "\n",
        "        # Backward pass and optimization\n",
        "        optimizer.zero_grad()\n",
        "        loss.backward()\n",
        "        optimizer.step()\n",
        "\n",
        "    if (epoch + 1) % 100 == 0:\n",
        "        print(f'Epoch [{epoch+1}/{num_epochs}], Loss: {loss.item():.4f}')"
      ],
      "metadata": {
        "id": "jYNnxdZQPs_w",
        "outputId": "7c3ca813-2eef-4b18-9668-8a87cee247a7",
        "colab": {
          "base_uri": "https://localhost:8080/"
        }
      },
      "execution_count": 30,
      "outputs": [
        {
          "output_type": "stream",
          "name": "stdout",
          "text": [
            "Epoch [100/1000], Loss: 0.8170\n",
            "Epoch [200/1000], Loss: 0.6680\n",
            "Epoch [300/1000], Loss: 0.6662\n",
            "Epoch [400/1000], Loss: 0.6153\n",
            "Epoch [500/1000], Loss: 0.7859\n",
            "Epoch [600/1000], Loss: 0.7782\n",
            "Epoch [700/1000], Loss: 0.7713\n",
            "Epoch [800/1000], Loss: 0.6733\n",
            "Epoch [900/1000], Loss: 0.7591\n",
            "Epoch [1000/1000], Loss: 0.7230\n"
          ]
        }
      ]
    },
    {
      "cell_type": "code",
      "source": [
        "# Dự đoán cho dữ liệu mới\n",
        "with torch.no_grad():\n",
        "    new_data = torch.tensor([[1, 0], [0, 1], [1, 1], [0, 0]], dtype=torch.float32)\n",
        "    predictions = model(new_data).round().squeeze().tolist()\n",
        "    print(\"Predictions:\", predictions)"
      ],
      "metadata": {
        "id": "4KsGy-6GPvqH",
        "outputId": "5d6134b5-60c7-4920-9e91-5e076c3f69a0",
        "colab": {
          "base_uri": "https://localhost:8080/"
        }
      },
      "execution_count": 31,
      "outputs": [
        {
          "output_type": "stream",
          "name": "stdout",
          "text": [
            "Predictions: [1.0, 1.0, 0.0, 1.0]\n"
          ]
        }
      ]
    },
    {
      "cell_type": "markdown",
      "source": [
        "2. Viết mô hình Lgistic Regession bằng Pytorch"
      ],
      "metadata": {
        "id": "lb8FHQ-WR3kI"
      }
    },
    {
      "cell_type": "code",
      "source": [
        "# Dữ liệu mẫu\n",
        "X_train = np.array([[1.0, 2.0], [2.0, 3.0], [3.0, 4.0], [4.0, 5.0]])\n",
        "y_train = np.array([0, 0, 1, 1])\n"
      ],
      "metadata": {
        "id": "shHzf1HwTMe5"
      },
      "execution_count": 32,
      "outputs": []
    },
    {
      "cell_type": "code",
      "source": [
        "# Chuyển đổi dữ liệu sang tensor\n",
        "X_train = torch.tensor(X_train, dtype=torch.float32)\n",
        "y_train = torch.tensor(y_train, dtype=torch.float32)"
      ],
      "metadata": {
        "id": "ih5P6TlFTPah"
      },
      "execution_count": 33,
      "outputs": []
    },
    {
      "cell_type": "code",
      "source": [
        "# Định nghĩa mô hình Logistic Regression\n",
        "class LogisticRegression(nn.Module):\n",
        "    def __init__(self, input_size):\n",
        "        super(LogisticRegression, self).__init__()\n",
        "        self.linear = nn.Linear(input_size, 1)\n",
        "        self.sigmoid = nn.Sigmoid()\n",
        "\n",
        "    def forward(self, x):\n",
        "        out = self.linear(x)\n",
        "        out = self.sigmoid(out)\n",
        "        return out\n"
      ],
      "metadata": {
        "id": "KXZcRhnwTR3o"
      },
      "execution_count": 34,
      "outputs": []
    },
    {
      "cell_type": "code",
      "source": [
        "# Khởi tạo mô hình\n",
        "input_size = X_train.shape[1]\n",
        "model = LogisticRegression(input_size)"
      ],
      "metadata": {
        "id": "Pb_O35hZTUup"
      },
      "execution_count": 35,
      "outputs": []
    },
    {
      "cell_type": "code",
      "source": [
        "# Định nghĩa hàm loss và bộ tối ưu\n",
        "criterion = nn.BCELoss()\n",
        "optimizer = optim.SGD(model.parameters(), lr=0.01)"
      ],
      "metadata": {
        "id": "_iVXx_wdTY2R"
      },
      "execution_count": 36,
      "outputs": []
    },
    {
      "cell_type": "code",
      "source": [
        "# Huấn luyện mô hình\n",
        "num_epochs = 1000\n",
        "for epoch in range(num_epochs):\n",
        "    # Forward pass\n",
        "    outputs = model(X_train)\n",
        "    loss = criterion(outputs, y_train.view(-1, 1))\n",
        "\n",
        "    # Backward pass và cập nhật trọng số\n",
        "    optimizer.zero_grad()\n",
        "    loss.backward()\n",
        "    optimizer.step()\n",
        "\n",
        "    if (epoch+1) % 100 == 0:\n",
        "        print(f'Epoch [{epoch+1}/{num_epochs}], Loss: {loss.item():.4f}')"
      ],
      "metadata": {
        "colab": {
          "base_uri": "https://localhost:8080/"
        },
        "id": "oDXJiO18TZwp",
        "outputId": "4be91f7d-deea-4d8c-bd13-b8dc2910bff1"
      },
      "execution_count": 37,
      "outputs": [
        {
          "output_type": "stream",
          "name": "stdout",
          "text": [
            "Epoch [100/1000], Loss: 0.7049\n",
            "Epoch [200/1000], Loss: 0.6708\n",
            "Epoch [300/1000], Loss: 0.6394\n",
            "Epoch [400/1000], Loss: 0.6104\n",
            "Epoch [500/1000], Loss: 0.5836\n",
            "Epoch [600/1000], Loss: 0.5589\n",
            "Epoch [700/1000], Loss: 0.5362\n",
            "Epoch [800/1000], Loss: 0.5151\n",
            "Epoch [900/1000], Loss: 0.4957\n",
            "Epoch [1000/1000], Loss: 0.4777\n"
          ]
        }
      ]
    },
    {
      "cell_type": "code",
      "source": [
        "# Dự đoán trên dữ liệu huấn luyện\n",
        "with torch.no_grad():\n",
        "    predicted = model(X_train)\n",
        "    predicted_cls = predicted.round()\n",
        "    accuracy = (predicted_cls.eq(y_train.view_as(predicted_cls)).sum() / y_train.shape[0]).item()\n",
        "    print(f'Độ chính xác của dữ liệu : {accuracy:.2f}')"
      ],
      "metadata": {
        "colab": {
          "base_uri": "https://localhost:8080/"
        },
        "id": "oWFmK154TdS5",
        "outputId": "33e95436-0fb9-4d84-d43c-35874204bf6c"
      },
      "execution_count": 39,
      "outputs": [
        {
          "output_type": "stream",
          "name": "stdout",
          "text": [
            "Độ chính xác của dữ liệu : 0.75\n"
          ]
        }
      ]
    }
  ]
}