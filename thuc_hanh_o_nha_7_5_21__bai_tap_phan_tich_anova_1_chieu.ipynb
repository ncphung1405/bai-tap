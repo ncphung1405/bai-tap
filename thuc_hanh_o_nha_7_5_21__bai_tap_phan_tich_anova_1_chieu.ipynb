{
  "nbformat": 4,
  "nbformat_minor": 0,
  "metadata": {
    "kernelspec": {
      "display_name": "Python 3",
      "language": "python",
      "name": "python3"
    },
    "language_info": {
      "codemirror_mode": {
        "name": "ipython",
        "version": 3
      },
      "file_extension": ".py",
      "mimetype": "text/x-python",
      "name": "python",
      "nbconvert_exporter": "python",
      "pygments_lexer": "ipython3",
      "version": "3.7.3"
    },
    "colab": {
      "name": "thuc_hanh_o_nha_7_5_21_ bai-tap-phan-tich-anova-1-chieu.ipynb",
      "provenance": [],
      "include_colab_link": true
    }
  },
  "cells": [
    {
      "cell_type": "markdown",
      "metadata": {
        "id": "view-in-github",
        "colab_type": "text"
      },
      "source": [
        "<a href=\"https://colab.research.google.com/github/ncphung1405/bai-tap/blob/main/thuc_hanh_o_nha_7_5_21__bai_tap_phan_tich_anova_1_chieu.ipynb\" target=\"_parent\"><img src=\"https://colab.research.google.com/assets/colab-badge.svg\" alt=\"Open In Colab\"/></a>"
      ]
    },
    {
      "cell_type": "markdown",
      "metadata": {
        "id": "TqDUs-c_cokc"
      },
      "source": [
        "Hãy sử dụng các tập dữ liệu sau và tiến hành phân tích ANOVA 1 chiều\n",
        "\n",
        "- [Excavation Depth and Archaeology](https://college.cengage.com/mathematics/brase/understandable_statistics/7e/students/datasets/owan/frames/owan01.html)\n",
        "- [Apple Orchard Experiment](https://college.cengage.com/mathematics/brase/understandable_statistics/7e/students/datasets/owan/frames/owan02.html)\n",
        "- [Red Dye Number 40](https://college.cengage.com/mathematics/brase/understandable_statistics/7e/students/datasets/owan/frames/owan03.html)\n",
        "- [Business Startup Costs](https://college.cengage.com/mathematics/brase/understandable_statistics/7e/students/datasets/owan/frames/owan04.html)\n",
        "- [Weights of Football Players](https://college.cengage.com/mathematics/brase/understandable_statistics/7e/students/datasets/owan/frames/owan05.html)"
      ]
    },
    {
      "cell_type": "code",
      "metadata": {
        "id": "h0Hds9QGcokm"
      },
      "source": [
        "import pandas as pd\n",
        "from scipy import stats"
      ],
      "execution_count": null,
      "outputs": []
    },
    {
      "cell_type": "markdown",
      "metadata": {
        "id": "VI1K0NoE_KdW"
      },
      "source": [
        "### **Xây dựng class**"
      ]
    },
    {
      "cell_type": "code",
      "metadata": {
        "id": "hWbi9QlJyAGq"
      },
      "source": [
        "# class phân tích avova\n",
        "# đầu vào là một data frame\n",
        "class projectAnova:\n",
        "    def __init__(self,data):\n",
        "        self.data = data\n",
        "        self.samples = []\n",
        "        for i in data.columns:\n",
        "            self.samples.append(data[i].dropna())\n",
        "    #kiem tra su phan phoi chuan\n",
        "    def shapiro_test(self):\n",
        "        for (stt, sample) in enumerate(self.samples):\n",
        "            pv_s = stats.shapiro(sample)[1]\n",
        "            if pv_s > 0.05:\n",
        "                print(f'Mẫu {stt} tuân theo phân phối chuẩn')\n",
        "            else:\n",
        "                print(f'Mẫu {stt} không tuân theo phân phối chuẩn')\n",
        "    #kiem tra su khac biet cua phuong sai\n",
        "    def levene_test(self):\n",
        "        pv_l = stats.levene(*self.samples)[1]\n",
        "        if pv_l > 0.05:\n",
        "            print('Phương sai bằng nhau')\n",
        "        else:\n",
        "            print('Có ít nhất một cặp Phương sai không bằng nhau')\n",
        "    #anova test\n",
        "    def anova_test(self):\n",
        "        pv_a = stats.f_oneway(*self.samples)[1]\n",
        "        if pv_a > 0.05:\n",
        "            print('các giá trị trung bình bằng nhau')\n",
        "        else:\n",
        "            print('Có tối thiểu một cặp giá trị trung bình có giá trị khác nhau')\n",
        "        \n",
        "                "
      ],
      "execution_count": null,
      "outputs": []
    },
    {
      "cell_type": "markdown",
      "metadata": {
        "id": "NIS_Drjo_TjA"
      },
      "source": [
        "### **chạy**"
      ]
    },
    {
      "cell_type": "code",
      "metadata": {
        "id": "_1dzLoq6cokn",
        "colab": {
          "base_uri": "https://localhost:8080/"
        },
        "outputId": "155f765d-4ebd-4642-a81a-5e43dca8f4da"
      },
      "source": [
        "df1 = pd.read_excel('owan01.xls')"
      ],
      "execution_count": null,
      "outputs": [
        {
          "output_type": "stream",
          "text": [
            "*** No CODEPAGE record, no encoding_override: will use 'ascii'\n"
          ],
          "name": "stdout"
        }
      ]
    },
    {
      "cell_type": "code",
      "metadata": {
        "colab": {
          "base_uri": "https://localhost:8080/"
        },
        "id": "y-RuMdVR6cp3",
        "outputId": "331674c9-dbe4-4c94-d748-699f2edec45d"
      },
      "source": [
        "df2 = pd.read_excel('owan02.xls')"
      ],
      "execution_count": null,
      "outputs": [
        {
          "output_type": "stream",
          "text": [
            "*** No CODEPAGE record, no encoding_override: will use 'ascii'\n"
          ],
          "name": "stdout"
        }
      ]
    },
    {
      "cell_type": "code",
      "metadata": {
        "id": "ZfpIIiEf5tOm"
      },
      "source": [
        "a1 = projectAnova(df1)"
      ],
      "execution_count": null,
      "outputs": []
    },
    {
      "cell_type": "code",
      "metadata": {
        "colab": {
          "base_uri": "https://localhost:8080/"
        },
        "id": "FZjT3n0r54w3",
        "outputId": "58c8dbc1-226c-4eff-ef6d-a9029beb92da"
      },
      "source": [
        "a1.shapiro_test()\n",
        "a1.levene_test()\n",
        "a1.anova_test()"
      ],
      "execution_count": null,
      "outputs": [
        {
          "output_type": "stream",
          "text": [
            "Mẫu 0 tuân theo phân phối chuẩn\n",
            "Mẫu 1 tuân theo phân phối chuẩn\n",
            "Mẫu 2 tuân theo phân phối chuẩn\n",
            "Mẫu 3 tuân theo phân phối chuẩn\n",
            "Phương sai bằng nhau\n",
            "Có tối thiểu một cặp giá trị trung bình có giá trị khác nhau\n"
          ],
          "name": "stdout"
        }
      ]
    },
    {
      "cell_type": "code",
      "metadata": {
        "id": "1Ple-SkP6nWX"
      },
      "source": [
        "a2 = projectAnova(df2)"
      ],
      "execution_count": null,
      "outputs": []
    },
    {
      "cell_type": "code",
      "metadata": {
        "colab": {
          "base_uri": "https://localhost:8080/"
        },
        "id": "K0urp55i6rNd",
        "outputId": "9cf14fcb-9de7-453c-8795-09113ffeffe7"
      },
      "source": [
        "a2.shapiro_test()\n",
        "a2.levene_test()\n",
        "a2.anova_test()"
      ],
      "execution_count": null,
      "outputs": [
        {
          "output_type": "stream",
          "text": [
            "Mẫu 0 tuân theo phân phối chuẩn\n",
            "Mẫu 1 tuân theo phân phối chuẩn\n",
            "Mẫu 2 tuân theo phân phối chuẩn\n",
            "Mẫu 3 tuân theo phân phối chuẩn\n",
            "Mẫu 4 tuân theo phân phối chuẩn\n",
            "Phương sai bằng nhau\n",
            "các giá trị trung bình bằng nhau\n"
          ],
          "name": "stdout"
        }
      ]
    },
    {
      "cell_type": "code",
      "metadata": {
        "colab": {
          "base_uri": "https://localhost:8080/"
        },
        "id": "CscsK5517MQB",
        "outputId": "31b08e6e-781a-40be-d84a-3c4f24a0f382"
      },
      "source": [
        "a3 = projectAnova(pd.read_excel('owan03.xls'))"
      ],
      "execution_count": null,
      "outputs": [
        {
          "output_type": "stream",
          "text": [
            "*** No CODEPAGE record, no encoding_override: will use 'ascii'\n"
          ],
          "name": "stdout"
        }
      ]
    },
    {
      "cell_type": "code",
      "metadata": {
        "colab": {
          "base_uri": "https://localhost:8080/"
        },
        "id": "40LKnPFU7aPf",
        "outputId": "83f204e9-4787-422b-8fb4-1c74199b7a9f"
      },
      "source": [
        "a3.shapiro_test()\n",
        "a3.levene_test()# các cặp phương sai không bằng nhau nên sẽ không thỏa các điều kiện để tiến hành anova test\n",
        "a3.anova_test()"
      ],
      "execution_count": null,
      "outputs": [
        {
          "output_type": "stream",
          "text": [
            "Mẫu 0 tuân theo phân phối chuẩn\n",
            "Mẫu 1 tuân theo phân phối chuẩn\n",
            "Mẫu 2 tuân theo phân phối chuẩn\n",
            "Mẫu 3 tuân theo phân phối chuẩn\n",
            "Có ít nhất một cặp Phương sai không bằng nhau\n",
            "Có tối thiểu một cặp giá trị trung bình có giá trị khác nhau\n"
          ],
          "name": "stdout"
        }
      ]
    },
    {
      "cell_type": "code",
      "metadata": {
        "colab": {
          "base_uri": "https://localhost:8080/"
        },
        "id": "4ZEEdC2o7sFQ",
        "outputId": "e0300174-e135-4b18-cdcb-1159e98975b4"
      },
      "source": [
        "a4 = projectAnova(pd.read_excel('owan04.xls'))"
      ],
      "execution_count": null,
      "outputs": [
        {
          "output_type": "stream",
          "text": [
            "*** No CODEPAGE record, no encoding_override: will use 'ascii'\n"
          ],
          "name": "stdout"
        }
      ]
    },
    {
      "cell_type": "code",
      "metadata": {
        "colab": {
          "base_uri": "https://localhost:8080/"
        },
        "id": "1b0F0EL17_sX",
        "outputId": "5a838e6e-0aaa-4ada-cc30-b2fe1487bfb8"
      },
      "source": [
        "a4.shapiro_test()\n",
        "a4.levene_test()\n",
        "a4.anova_test()"
      ],
      "execution_count": null,
      "outputs": [
        {
          "output_type": "stream",
          "text": [
            "Mẫu 0 tuân theo phân phối chuẩn\n",
            "Mẫu 1 tuân theo phân phối chuẩn\n",
            "Mẫu 2 tuân theo phân phối chuẩn\n",
            "Mẫu 3 tuân theo phân phối chuẩn\n",
            "Mẫu 4 tuân theo phân phối chuẩn\n",
            "Phương sai bằng nhau\n",
            "Có tối thiểu một cặp giá trị trung bình có giá trị khác nhau\n"
          ],
          "name": "stdout"
        }
      ]
    },
    {
      "cell_type": "code",
      "metadata": {
        "colab": {
          "base_uri": "https://localhost:8080/"
        },
        "id": "OuB7lcL98Syn",
        "outputId": "02edb22a-445f-411a-db66-b96aeb62b49b"
      },
      "source": [
        "a5 = projectAnova(pd.read_excel('owan05.xls'))"
      ],
      "execution_count": null,
      "outputs": [
        {
          "output_type": "stream",
          "text": [
            "*** No CODEPAGE record, no encoding_override: will use 'ascii'\n"
          ],
          "name": "stdout"
        }
      ]
    },
    {
      "cell_type": "code",
      "metadata": {
        "colab": {
          "base_uri": "https://localhost:8080/"
        },
        "id": "MONhIYI18fTA",
        "outputId": "5a0c3285-6edb-46d6-ec50-1cd736ff12e8"
      },
      "source": [
        "a5.shapiro_test() # vì có một mẫu không tuân theo phân phối chuẩn nên khó đi đến kết luận của Anova test\n",
        "a5.levene_test()\n",
        "a5.anova_test()"
      ],
      "execution_count": null,
      "outputs": [
        {
          "output_type": "stream",
          "text": [
            "Mẫu 0 không tuân theo phân phối chuẩn\n",
            "Mẫu 1 tuân theo phân phối chuẩn\n",
            "Mẫu 2 tuân theo phân phối chuẩn\n",
            "Mẫu 3 tuân theo phân phối chuẩn\n",
            "Mẫu 4 tuân theo phân phối chuẩn\n",
            "Phương sai bằng nhau\n",
            "các giá trị trung bình bằng nhau\n"
          ],
          "name": "stdout"
        }
      ]
    },
    {
      "cell_type": "markdown",
      "metadata": {
        "id": "okhPpj4Z9p8j"
      },
      "source": [
        "### **Chạy từ từ**"
      ]
    },
    {
      "cell_type": "code",
      "metadata": {
        "colab": {
          "base_uri": "https://localhost:8080/"
        },
        "id": "T8G0ganLq97z",
        "outputId": "fb31d81d-3253-48bb-d9ba-c409f6659e2f"
      },
      "source": [
        "df1['X4'].dropna() # loại bỏ Nan"
      ],
      "execution_count": null,
      "outputs": [
        {
          "output_type": "execute_result",
          "data": {
            "text/plain": [
              "0    96.0\n",
              "1    58.0\n",
              "2    95.0\n",
              "3    90.0\n",
              "4    65.0\n",
              "5    80.0\n",
              "6    85.0\n",
              "7    95.0\n",
              "8    82.0\n",
              "Name: X4, dtype: float64"
            ]
          },
          "metadata": {
            "tags": []
          },
          "execution_count": 156
        }
      ]
    },
    {
      "cell_type": "code",
      "metadata": {
        "colab": {
          "base_uri": "https://localhost:8080/"
        },
        "id": "9UrfYd1hhx6T",
        "outputId": "6e4f374e-4c18-470f-8588-63f0c5c8507f"
      },
      "source": [
        "df1.columns"
      ],
      "execution_count": null,
      "outputs": [
        {
          "output_type": "execute_result",
          "data": {
            "text/plain": [
              "Index(['X1', 'X2', 'X3', 'X4'], dtype='object')"
            ]
          },
          "metadata": {
            "tags": []
          },
          "execution_count": 147
        }
      ]
    },
    {
      "cell_type": "code",
      "metadata": {
        "id": "YX7GOfLtdtY0",
        "colab": {
          "base_uri": "https://localhost:8080/"
        },
        "outputId": "0fbff0b4-91c0-4690-fcfb-d0aaa3a1898f"
      },
      "source": [
        "for i in df1.columns:\n",
        "    pvalue_s = stats.shapiro(df1[i].dropna())[1]\n",
        "    if pvalue_s > 0.05:\n",
        "        print('Mẫu tuân theo phân phối chuẩn')\n",
        "    else:\n",
        "        print('Mẫu không tuân theo phân phối chuẩn')"
      ],
      "execution_count": null,
      "outputs": [
        {
          "output_type": "stream",
          "text": [
            "Mẫu tuân theo phân phối chuẩn\n",
            "Mẫu tuân theo phân phối chuẩn\n",
            "Mẫu tuân theo phân phối chuẩn\n",
            "Mẫu tuân theo phân phối chuẩn\n"
          ],
          "name": "stdout"
        }
      ]
    },
    {
      "cell_type": "code",
      "metadata": {
        "colab": {
          "base_uri": "https://localhost:8080/"
        },
        "id": "R4RB6Qt8jWHi",
        "outputId": "b916258e-d4a0-4d7e-c467-022b2493f097"
      },
      "source": [
        "pvalue_s"
      ],
      "execution_count": null,
      "outputs": [
        {
          "output_type": "execute_result",
          "data": {
            "text/plain": [
              "0.13579683005809784"
            ]
          },
          "metadata": {
            "tags": []
          },
          "execution_count": 149
        }
      ]
    },
    {
      "cell_type": "code",
      "metadata": {
        "id": "uqdwbIDDjVr5"
      },
      "source": [
        "args = (df1['X1'].dropna(), df1['X2'].dropna(), df1['X3'].dropna(),df1['X4'].dropna())"
      ],
      "execution_count": null,
      "outputs": []
    },
    {
      "cell_type": "code",
      "metadata": {
        "colab": {
          "base_uri": "https://localhost:8080/"
        },
        "id": "dBnKz8ecimzE",
        "outputId": "2c59090d-7672-47e7-e6e5-c1ee8d1bad13"
      },
      "source": [
        "pl = stats.levene(*args)[1]\n",
        "if pl > 0.05:\n",
        "    print('Phương sai bằng nhau')\n",
        "else:\n",
        "    print('Có ít nhất một cặp Phương sai không bằng nhau')"
      ],
      "execution_count": null,
      "outputs": [
        {
          "output_type": "stream",
          "text": [
            "Phương sai bằng nhau\n"
          ],
          "name": "stdout"
        }
      ]
    },
    {
      "cell_type": "code",
      "metadata": {
        "colab": {
          "base_uri": "https://localhost:8080/"
        },
        "id": "vIUkl48KkN9u",
        "outputId": "10cafd9c-cb19-410e-e777-c2d88a0e08b1"
      },
      "source": [
        "pv_a = stats.f_oneway(*args)[1]\n",
        "if pv_a > 0.05:\n",
        "    print('các giá trị trung bình bằng nhau')\n",
        "else:\n",
        "    print('Có tối thiểu một cặp giá trị trung bình có giá trị khác nhau')"
      ],
      "execution_count": null,
      "outputs": [
        {
          "output_type": "stream",
          "text": [
            "Có tối thiểu một cặp giá trị trung bình có giá trị khác nhau\n"
          ],
          "name": "stdout"
        }
      ]
    }
  ]
}