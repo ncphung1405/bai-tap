{
  "nbformat": 4,
  "nbformat_minor": 0,
  "metadata": {
    "colab": {
      "provenance": [],
      "gpuType": "T4",
      "include_colab_link": true
    },
    "kernelspec": {
      "name": "python3",
      "display_name": "Python 3"
    },
    "language_info": {
      "name": "python"
    },
    "accelerator": "GPU"
  },
  "cells": [
    {
      "cell_type": "markdown",
      "metadata": {
        "id": "view-in-github",
        "colab_type": "text"
      },
      "source": [
        "<a href=\"https://colab.research.google.com/github/ncphung1405/bai-tap/blob/main/bt_tang_cuong.ipynb\" target=\"_parent\"><img src=\"https://colab.research.google.com/assets/colab-badge.svg\" alt=\"Open In Colab\"/></a>"
      ]
    },
    {
      "cell_type": "code",
      "execution_count": 4,
      "metadata": {
        "id": "1VtTzJ84b2VJ"
      },
      "outputs": [],
      "source": [
        "import random\n",
        "\n",
        "def game(p, N, W0):\n",
        "    tai_san = W0\n",
        "    while tai_san > 0 and tai_san < N:\n",
        "        if random.random() < p:\n",
        "            tai_san += 1\n",
        "        else:\n",
        "            tai_san -= 1\n",
        "    return tai_san"
      ]
    },
    {
      "cell_type": "markdown",
      "source": [
        "##1. Tính xác suất ra về tay trắng tương ứng với p = 0.25, 0.5, 0.75"
      ],
      "metadata": {
        "id": "h6L1ozuKc2k7"
      }
    },
    {
      "cell_type": "code",
      "source": [
        "def tinh_xac_suat_ket_thuc(p, N, W0, sl_mo_phong):\n",
        "    tay_trang = 0\n",
        "    for _ in range(sl_mo_phong):\n",
        "        ket_thuc_phan_thuong = game(p, N, W0)\n",
        "        if ket_thuc_phan_thuong == 0:\n",
        "            tay_trang += 1\n",
        "    return tay_trang / sl_mo_phong\n",
        "\n",
        "p = [0.25, 0.5, 0.75]\n",
        "N = 1000  # 1000$ Số tài sản mà nếu đạt được, trò chơi kết thúc\n",
        "W0 = 20  # Số tiền ban đầu\n",
        "sl_mo_phong = 1000  # Số lần mô phỏng\n",
        "for p in p:\n",
        "    xac_suat_tay_trang = tinh_xac_suat_ket_thuc(p, N, W0, sl_mo_phong)\n",
        "    print(f\"Xác suất ra về tay trắng với p={p}: {xac_suat_tay_trang:.4f}\")"
      ],
      "metadata": {
        "colab": {
          "base_uri": "https://localhost:8080/"
        },
        "id": "49fUISX-c2TD",
        "outputId": "841c37fa-dd4d-49ec-b577-097cfca8c47c"
      },
      "execution_count": 5,
      "outputs": [
        {
          "output_type": "stream",
          "name": "stdout",
          "text": [
            "Xác suất ra về tay trắng với p=0.25: 1.0000\n",
            "Xác suất ra về tay trắng với p=0.5: 0.9800\n",
            "Xác suất ra về tay trắng với p=0.75: 0.0000\n"
          ]
        }
      ]
    },
    {
      "cell_type": "markdown",
      "source": [
        "##2. Tính xác suất thắng được N = $100, với p = 0.25, 0.5, 0.75"
      ],
      "metadata": {
        "id": "r-0rx4skhAcj"
      }
    },
    {
      "cell_type": "code",
      "source": [
        "def tinh_xac_suat_ket_thuc_win(p, N, W0, sl_mo_phong):\n",
        "    thang = 0\n",
        "    for _ in range(sl_mo_phong):\n",
        "        ket_thuc = game(p, N, W0)\n",
        "        if ket_thuc == N:\n",
        "            thang += 1\n",
        "    return thang / sl_mo_phong\n",
        "\n",
        "p = [0.25, 0.5, 0.75]\n",
        "N = 100\n",
        "W0 = 20\n",
        "sl_mo_phong = 1000\n",
        "for p in p:\n",
        "    xac_suat_thang = tinh_xac_suat_ket_thuc_win(p, N, W0, sl_mo_phong)\n",
        "    print(f\"Xác suất thắng với p={p}: {xac_suat_thang:.4f}\")"
      ],
      "metadata": {
        "colab": {
          "base_uri": "https://localhost:8080/"
        },
        "id": "3DYmTSG6g-BW",
        "outputId": "2e03249b-7c25-4abb-f980-9774be54d48c"
      },
      "execution_count": 7,
      "outputs": [
        {
          "output_type": "stream",
          "name": "stdout",
          "text": [
            "Xác suất thắng với p=0.25: 0.0000\n",
            "Xác suất thắng với p=0.5: 0.2090\n",
            "Xác suất thắng với p=0.75: 1.0000\n"
          ]
        }
      ]
    },
    {
      "cell_type": "markdown",
      "source": [
        "##4. Viết chương trình chính xác ra về tay trắng với W0 = $100 và xác suất p nằm trong khoảng từ 0.1 đến 0.9"
      ],
      "metadata": {
        "id": "PQEH4V1UkOl5"
      }
    },
    {
      "cell_type": "code",
      "source": [
        "import numpy as np\n",
        "\n",
        "N = 10000\n",
        "W0 = 100\n",
        "sl_mo_phong = 500\n",
        "\n",
        "def tinh_xac_suat(p):\n",
        "    tay_trang = 0\n",
        "    for _ in range(sl_mo_phong):\n",
        "        ket_thuc_phan_thuong = game(p, N, W0)\n",
        "        if ket_thuc_phan_thuong == 0:\n",
        "            tay_trang += 1\n",
        "    return tay_trang / sl_mo_phong\n",
        "\n",
        "p_ = np.linspace(0.1, 0.9, 9)\n",
        "\n",
        "for p in p_:\n",
        "    xac_suat_thang = tinh_xac_suat_ket_thuc(p, N, W0, sl_mo_phong)\n",
        "    print(f\"Xác suất thắng với p={p:.2f}: {xac_suat_thang:.4f}\")"
      ],
      "metadata": {
        "id": "KRI1Aas4kRBW",
        "colab": {
          "base_uri": "https://localhost:8080/"
        },
        "outputId": "25d4f660-c578-4b8f-e745-0c3fb4ad9e74"
      },
      "execution_count": null,
      "outputs": [
        {
          "output_type": "stream",
          "name": "stdout",
          "text": [
            "Xác suất thắng với p=0.10: 1.0000\n",
            "Xác suất thắng với p=0.20: 1.0000\n",
            "Xác suất thắng với p=0.30: 1.0000\n",
            "Xác suất thắng với p=0.40: 1.0000\n"
          ]
        }
      ]
    }
  ]
}