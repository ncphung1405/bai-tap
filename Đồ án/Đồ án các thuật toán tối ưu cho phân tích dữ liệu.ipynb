{
  "cells": [
    {
      "cell_type": "code",
      "execution_count": 1,
      "id": "bd4eeab3",
      "metadata": {
        "_cell_guid": "b1076dfc-b9ad-4769-8c92-a6c4dae69d19",
        "_uuid": "8f2839f25d086af736a60e9eeb907d3b93b6e0e5",
        "execution": {
          "iopub.execute_input": "2022-02-21T21:07:34.720195Z",
          "iopub.status.busy": "2022-02-21T21:07:34.719151Z",
          "iopub.status.idle": "2022-02-21T21:07:34.725669Z",
          "shell.execute_reply": "2022-02-21T21:07:34.724657Z",
          "shell.execute_reply.started": "2021-11-28T16:04:06.444007Z"
        },
        "papermill": {
          "duration": 0.033795,
          "end_time": "2022-02-21T21:07:34.725940",
          "exception": false,
          "start_time": "2022-02-21T21:07:34.692145",
          "status": "completed"
        },
        "tags": [],
        "id": "bd4eeab3"
      },
      "outputs": [],
      "source": [
        "#Nhập thư viện và đọc dataset\n",
        "import numpy as np\n",
        "import pandas as pd\n",
        "import matplotlib.pyplot as plt\n",
        "get_ipython().run_line_magic('matplotlib', 'inline')"
      ]
    },
    {
      "cell_type": "code",
      "execution_count": 2,
      "id": "e40fe2cf",
      "metadata": {
        "execution": {
          "iopub.execute_input": "2022-02-21T21:07:34.754629Z",
          "iopub.status.busy": "2022-02-21T21:07:34.753914Z",
          "iopub.status.idle": "2022-02-21T21:07:34.777638Z",
          "shell.execute_reply": "2022-02-21T21:07:34.778178Z",
          "shell.execute_reply.started": "2021-11-28T16:04:06.475546Z"
        },
        "papermill": {
          "duration": 0.040863,
          "end_time": "2022-02-21T21:07:34.778372",
          "exception": false,
          "start_time": "2022-02-21T21:07:34.737509",
          "status": "completed"
        },
        "tags": [],
        "id": "e40fe2cf"
      },
      "outputs": [],
      "source": [
        "train = pd.read_csv('Data-Train.csv')\n",
        "test = pd.read_csv('Data-Test.csv')"
      ]
    },
    {
      "cell_type": "code",
      "execution_count": 3,
      "id": "aab874a2",
      "metadata": {
        "execution": {
          "iopub.execute_input": "2022-02-21T21:07:34.804572Z",
          "iopub.status.busy": "2022-02-21T21:07:34.803818Z",
          "iopub.status.idle": "2022-02-21T21:07:34.818223Z",
          "shell.execute_reply": "2022-02-21T21:07:34.817467Z",
          "shell.execute_reply.started": "2021-11-28T16:04:06.510464Z"
        },
        "papermill": {
          "duration": 0.028795,
          "end_time": "2022-02-21T21:07:34.818558",
          "exception": false,
          "start_time": "2022-02-21T21:07:34.789763",
          "status": "completed"
        },
        "tags": [],
        "id": "aab874a2"
      },
      "outputs": [],
      "source": [
        "#Thay đổi tập dữ liệu thành ma trận và chuyển đổi chúng\n",
        "x_train = np.transpose(np.asmatrix(train['x']))\n",
        "y_train = np.transpose(np.asmatrix(train['y']))\n",
        "\n",
        "x_test = np.transpose(np.asmatrix(test['x']))\n",
        "y_test = np.transpose(np.asmatrix(test['y']))"
      ]
    },
    {
      "cell_type": "code",
      "execution_count": 4,
      "id": "7b083665",
      "metadata": {
        "execution": {
          "iopub.execute_input": "2022-02-21T21:07:34.850668Z",
          "iopub.status.busy": "2022-02-21T21:07:34.849395Z",
          "iopub.status.idle": "2022-02-21T21:07:34.851612Z",
          "shell.execute_reply": "2022-02-21T21:07:34.852132Z",
          "shell.execute_reply.started": "2021-11-28T16:04:06.52485Z"
        },
        "papermill": {
          "duration": 0.019594,
          "end_time": "2022-02-21T21:07:34.852320",
          "exception": false,
          "start_time": "2022-02-21T21:07:34.832726",
          "status": "completed"
        },
        "tags": [],
        "id": "7b083665"
      },
      "outputs": [],
      "source": [
        "#Thêm X0 vào dữ liệu\n",
        "ones = np.ones((x_train.shape[0],1))\n",
        "x_new = np.append(ones, x_train, 1)"
      ]
    },
    {
      "cell_type": "code",
      "execution_count": 5,
      "id": "4353ab38",
      "metadata": {
        "execution": {
          "iopub.execute_input": "2022-02-21T21:07:34.878713Z",
          "iopub.status.busy": "2022-02-21T21:07:34.877628Z",
          "iopub.status.idle": "2022-02-21T21:07:34.882133Z",
          "shell.execute_reply": "2022-02-21T21:07:34.882604Z",
          "shell.execute_reply.started": "2021-11-28T16:04:06.539713Z"
        },
        "papermill": {
          "duration": 0.019595,
          "end_time": "2022-02-21T21:07:34.882808",
          "exception": false,
          "start_time": "2022-02-21T21:07:34.863213",
          "status": "completed"
        },
        "tags": [],
        "id": "4353ab38"
      },
      "outputs": [],
      "source": [
        "#Tạo m , n và theta \n",
        "m, n = np.shape(x_new)\n",
        "theta = np.ones((1,n))\n",
        "theta = np.transpose(theta)\n",
        "theta_new = theta"
      ]
    },
    {
      "cell_type": "code",
      "execution_count": 6,
      "id": "990976d6",
      "metadata": {
        "execution": {
          "iopub.execute_input": "2022-02-21T21:07:34.908675Z",
          "iopub.status.busy": "2022-02-21T21:07:34.907662Z",
          "iopub.status.idle": "2022-02-21T21:07:34.911158Z",
          "shell.execute_reply": "2022-02-21T21:07:34.911728Z",
          "shell.execute_reply.started": "2021-11-28T16:04:06.550852Z"
        },
        "papermill": {
          "duration": 0.01824,
          "end_time": "2022-02-21T21:07:34.911908",
          "exception": false,
          "start_time": "2022-02-21T21:07:34.893668",
          "status": "completed"
        },
        "tags": [],
        "id": "990976d6"
      },
      "outputs": [],
      "source": [
        "#Chọn tỷ lệ lặp lại, Learning Rate \n",
        "itr= 200\n",
        "alpha = 0.00004"
      ]
    },
    {
      "cell_type": "code",
      "execution_count": 7,
      "id": "d1004016",
      "metadata": {
        "execution": {
          "iopub.execute_input": "2022-02-21T21:07:34.939097Z",
          "iopub.status.busy": "2022-02-21T21:07:34.938298Z",
          "iopub.status.idle": "2022-02-21T21:07:34.941355Z",
          "shell.execute_reply": "2022-02-21T21:07:34.940817Z",
          "shell.execute_reply.started": "2021-11-28T16:04:06.568437Z"
        },
        "papermill": {
          "duration": 0.018363,
          "end_time": "2022-02-21T21:07:34.941497",
          "exception": false,
          "start_time": "2022-02-21T21:07:34.923134",
          "status": "completed"
        },
        "tags": [],
        "id": "d1004016"
      },
      "outputs": [],
      "source": [
        "#Tính toán Gradient Descent \n",
        "LSM = np.zeros((itr,2))\n",
        "d = 0"
      ]
    },
    {
      "cell_type": "code",
      "execution_count": 8,
      "id": "1738b9da",
      "metadata": {
        "execution": {
          "iopub.execute_input": "2022-02-21T21:07:34.980450Z",
          "iopub.status.busy": "2022-02-21T21:07:34.975292Z",
          "iopub.status.idle": "2022-02-21T21:07:53.415103Z",
          "shell.execute_reply": "2022-02-21T21:07:53.414059Z",
          "shell.execute_reply.started": "2021-11-28T16:04:06.578172Z"
        },
        "papermill": {
          "duration": 18.462707,
          "end_time": "2022-02-21T21:07:53.415262",
          "exception": false,
          "start_time": "2022-02-21T21:07:34.952555",
          "status": "completed"
        },
        "tags": [],
        "colab": {
          "base_uri": "https://localhost:8080/"
        },
        "id": "1738b9da",
        "outputId": "0f2d3a97-089b-4a2f-a4c8-5f13a727e815"
      },
      "outputs": [
        {
          "output_type": "stream",
          "name": "stdout",
          "text": [
            "Số lần lặp :  200\n",
            "Learning Rate  :  4e-05\n",
            "Theta[0] =  [-0.07264958]\n",
            "Theta[1] =  [1.00600317]\n"
          ]
        }
      ],
      "source": [
        "while d < itr:\n",
        "    for i in range(0, m):\n",
        "        for j in range(0, n):\n",
        "            theta_new[j] = theta[j] - (alpha * ((x_new[i]*theta - y_train[i])*x_new[i, j]))\n",
        "        \n",
        "        theta = theta_new\n",
        "    \n",
        "    y_pred = theta[0] + theta[1]*x_train.T\n",
        "    \n",
        "    Loop_LSM = 0\n",
        "    for i in range(0, m):       \n",
        "        Loop_LSM += (y_train.A1[i] - y_pred.A1[i])**2        \n",
        "    Loop_LSM = Loop_LSM/(2*m)\n",
        "    LSM[d,0] = d\n",
        "    LSM[d,1] = Loop_LSM\n",
        "    \n",
        "    d += 1\n",
        "    \n",
        "print('Số lần lặp : ',itr)\n",
        "print('Learning Rate  : ',alpha)\n",
        "print('Theta[0] = ', theta[0])\n",
        "print('Theta[1] = ', theta[1])"
      ]
    },
    {
      "cell_type": "code",
      "execution_count": 9,
      "id": "caf884ea",
      "metadata": {
        "execution": {
          "iopub.execute_input": "2022-02-21T21:07:53.446871Z",
          "iopub.status.busy": "2022-02-21T21:07:53.446188Z",
          "iopub.status.idle": "2022-02-21T21:07:53.448791Z",
          "shell.execute_reply": "2022-02-21T21:07:53.448249Z",
          "shell.execute_reply.started": "2021-11-28T16:04:24.624544Z"
        },
        "papermill": {
          "duration": 0.021373,
          "end_time": "2022-02-21T21:07:53.448939",
          "exception": false,
          "start_time": "2022-02-21T21:07:53.427566",
          "status": "completed"
        },
        "tags": [],
        "id": "caf884ea"
      },
      "outputs": [],
      "source": [
        "#Tính toán h(theta) hoặc y_predection cho cả hai dữ liệu\n",
        "y_pred_train = theta[0] + theta[1]*x_train.T\n",
        "\n",
        "y_pred_test = theta[0] + theta[1]*x_test.T"
      ]
    },
    {
      "cell_type": "code",
      "execution_count": 10,
      "id": "2bce22fa",
      "metadata": {
        "execution": {
          "iopub.execute_input": "2022-02-21T21:07:53.483790Z",
          "iopub.status.busy": "2022-02-21T21:07:53.482954Z",
          "iopub.status.idle": "2022-02-21T21:07:53.485651Z",
          "shell.execute_reply": "2022-02-21T21:07:53.486200Z",
          "shell.execute_reply.started": "2021-11-28T16:04:24.632346Z"
        },
        "papermill": {
          "duration": 0.025545,
          "end_time": "2022-02-21T21:07:53.486375",
          "exception": false,
          "start_time": "2022-02-21T21:07:53.460830",
          "status": "completed"
        },
        "tags": [],
        "colab": {
          "base_uri": "https://localhost:8080/"
        },
        "id": "2bce22fa",
        "outputId": "aec9aa3d-f6e3-4e18-dd67-fb622c410b99"
      },
      "outputs": [
        {
          "output_type": "stream",
          "name": "stdout",
          "text": [
            "Sai số bình phương nhỏ nhất :  4.1856898741848125\n"
          ]
        }
      ],
      "source": [
        "#Tính toán hàm chi phí dữ liệu thử nghiệm \n",
        "train_LSM = 0\n",
        "m = y_train.shape[0]\n",
        "\n",
        "for i in range(m):\n",
        "    train_LSM += ((y_train.A1[i] - y_pred_train.A1[i])**2)\n",
        "train_LSM = train_LSM/(2*m)\n",
        "\n",
        "print(\"Sai số bình phương nhỏ nhất : \", train_LSM)"
      ]
    },
    {
      "cell_type": "code",
      "execution_count": 11,
      "id": "5b4b9e47",
      "metadata": {
        "execution": {
          "iopub.execute_input": "2022-02-21T21:07:53.514316Z",
          "iopub.status.busy": "2022-02-21T21:07:53.513651Z",
          "iopub.status.idle": "2022-02-21T21:07:53.521110Z",
          "shell.execute_reply": "2022-02-21T21:07:53.521703Z",
          "shell.execute_reply.started": "2021-11-28T16:04:24.655463Z"
        },
        "papermill": {
          "duration": 0.023705,
          "end_time": "2022-02-21T21:07:53.521887",
          "exception": false,
          "start_time": "2022-02-21T21:07:53.498182",
          "status": "completed"
        },
        "tags": [],
        "colab": {
          "base_uri": "https://localhost:8080/"
        },
        "id": "5b4b9e47",
        "outputId": "212b413c-c851-4f3d-f0ac-b4cf50a483a2"
      },
      "outputs": [
        {
          "output_type": "stream",
          "name": "stdout",
          "text": [
            "Kiểm tra lỗi bình phương nhỏ nhất :  4.610875131374377\n"
          ]
        }
      ],
      "source": [
        "#Tính toán hàm chi phí dữ liệu thử nghiệm \n",
        "test_LSM = 0\n",
        "m = y_test.shape[0]\n",
        "\n",
        "for i in range(m):\n",
        "    test_LSM += ((y_test.A1[i] - y_pred_test.A1[i])**2)\n",
        "test_LSM = test_LSM/(2*m)\n",
        "\n",
        "print(\"Kiểm tra lỗi bình phương nhỏ nhất : \", test_LSM)"
      ]
    },
    {
      "cell_type": "code",
      "execution_count": 12,
      "id": "bf3ebeef",
      "metadata": {
        "execution": {
          "iopub.execute_input": "2022-02-21T21:07:53.574631Z",
          "iopub.status.busy": "2022-02-21T21:07:53.554544Z",
          "iopub.status.idle": "2022-02-21T21:07:54.156229Z",
          "shell.execute_reply": "2022-02-21T21:07:54.156774Z",
          "shell.execute_reply.started": "2021-11-28T16:04:24.668759Z"
        },
        "papermill": {
          "duration": 0.622893,
          "end_time": "2022-02-21T21:07:54.156954",
          "exception": false,
          "start_time": "2022-02-21T21:07:53.534061",
          "status": "completed"
        },
        "tags": [],
        "colab": {
          "base_uri": "https://localhost:8080/",
          "height": 534
        },
        "id": "bf3ebeef",
        "outputId": "8a98c1e5-28f5-4a5a-c70f-1751c944d055"
      },
      "outputs": [
        {
          "output_type": "stream",
          "name": "stderr",
          "text": [
            "WARNING:matplotlib.legend:No artists with labels found to put in legend.  Note that artists whose label start with an underscore are ignored when legend() is called with no argument.\n"
          ]
        },
        {
          "output_type": "display_data",
          "data": {
            "text/plain": [
              "<Figure size 640x480 with 4 Axes>"
            ],
            "image/png": "[encoded data removed]"
          },
          "metadata": {}
        }
      ],
      "source": [
        "#vẽ dữ liệu của chúng tôi và Gradient\n",
        "fig, plots = plt.subplots(2,2)\n",
        "fig.suptitle(' Stochastic Gradient Descent')\n",
        "\n",
        "plots[0,0].scatter(train['x'],train['y'],color = \"green\", s = 0.1, label = 'Train data')\n",
        "plots[0,0].plot(x_train.T.A1, y_pred_train.A1, color = \"black\") \n",
        "plots[0,0].set(xlabel='X', ylabel='Y')\n",
        "plots[0,0].legend(loc = 'upper left')\n",
        "\n",
        "plots[0,1].scatter(test['x'],test['y'],color = \"red\", s = 0.1, label = 'Test data')\n",
        "plots[0,1].plot(x_train.T.A1, y_pred_train.A1, color = \"black\") \n",
        "plots[0,1].set(xlabel='X')\n",
        "plots[0,1].legend(loc = 'upper left')\n",
        "\n",
        "plots[1,0].plot(LSM.T[0], LSM.T[1], color = \"black\") \n",
        "plots[1,0].set(xlabel='Iteration', ylabel='LSM')\n",
        "plots[1,0].legend(loc = 'upper left')\n",
        "\n",
        "plt.show() "
      ]
    }
  ],
  "metadata": {
    "kernelspec": {
      "display_name": "Python 3",
      "language": "python",
      "name": "python3"
    },
    "language_info": {
      "codemirror_mode": {
        "name": "ipython",
        "version": 3
      },
      "file_extension": ".py",
      "mimetype": "text/x-python",
      "name": "python",
      "nbconvert_exporter": "python",
      "pygments_lexer": "ipython3",
      "version": "3.7.10"
    },
    "papermill": {
      "default_parameters": {},
      "duration": 30.080054,
      "end_time": "2022-02-21T21:07:54.781012",
      "environment_variables": {},
      "exception": null,
      "input_path": "__notebook__.ipynb",
      "output_path": "__notebook__.ipynb",
      "parameters": {},
      "start_time": "2022-02-21T21:07:24.700958",
      "version": "2.3.3"
    },
    "colab": {
      "provenance": []
    }
  },
  "nbformat": 4,
  "nbformat_minor": 5
}